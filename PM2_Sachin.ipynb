{
  "nbformat": 4,
  "nbformat_minor": 0,
  "metadata": {
    "colab": {
      "provenance": []
    },
    "kernelspec": {
      "name": "python3",
      "display_name": "Python 3"
    },
    "language_info": {
      "name": "python"
    }
  },
  "cells": [
    {
      "cell_type": "code",
      "execution_count": 43,
      "metadata": {
        "id": "q5f8FDIdIMO-"
      },
      "outputs": [],
      "source": [
        "import pandas as pd\n",
        "import numpy as np\n",
        "import statsmodels.api as sm\n",
        "import matplotlib.pyplot as plt\n",
        "import seaborn as sns"
      ]
    },
    {
      "cell_type": "code",
      "source": [
        "races = pd.read_csv('cleaned_races.csv')\n",
        "sprint_results = pd.read_csv('cleaned_sprint_results.csv')\n",
        "results = pd.read_csv('cleaned_results.csv')\n",
        "drivers = pd.read_csv('cleaned_drivers.csv')"
      ],
      "metadata": {
        "id": "lDgrWXT4LQWr"
      },
      "execution_count": 44,
      "outputs": []
    },
    {
      "cell_type": "code",
      "source": [
        "races_2022 = races[races['year'] == 2022]\n",
        "race_ids_2022 = set(races_2022['raceId'])\n",
        "print(f\"Number of races in 2022 season: {len(races_2022)}\")"
      ],
      "metadata": {
        "colab": {
          "base_uri": "https://localhost:8080/"
        },
        "id": "6PN8iDxRKO4y",
        "outputId": "286b5573-aa04-4d96-ebdf-d881f6b2c6dc"
      },
      "execution_count": 45,
      "outputs": [
        {
          "output_type": "stream",
          "name": "stdout",
          "text": [
            "Number of races in 2022 season: 22\n"
          ]
        }
      ]
    },
    {
      "cell_type": "code",
      "source": [
        "sprints_2022 = sprint_results[sprint_results['raceId'].isin(race_ids_2022)]\n",
        "sprint_races_2022 = set(sprints_2022['raceId'])\n",
        "print(f\"Number of sprint races in 2022: {len(sprint_races_2022)}\")"
      ],
      "metadata": {
        "colab": {
          "base_uri": "https://localhost:8080/"
        },
        "id": "T-5xFe4IOGSo",
        "outputId": "48fad485-7be6-46b5-b26b-0edc133d029b"
      },
      "execution_count": 46,
      "outputs": [
        {
          "output_type": "stream",
          "name": "stdout",
          "text": [
            "Number of sprint races in 2022: 3\n"
          ]
        }
      ]
    },
    {
      "cell_type": "code",
      "source": [
        "driver_names = dict(zip(drivers['driverId'], drivers['driver_forename'] + ' ' +\n",
        "                        drivers['driver_surname']))"
      ],
      "metadata": {
        "id": "k5wZjV75OKAW"
      },
      "execution_count": 47,
      "outputs": []
    },
    {
      "cell_type": "code",
      "source": [
        "sprint_points = sprints_2022.groupby('driverId')['points'].sum().reset_index()\n",
        "sprint_points['name'] = sprint_points['driverId'].map(driver_names)"
      ],
      "metadata": {
        "id": "JsjiEghjOVgu"
      },
      "execution_count": 48,
      "outputs": []
    },
    {
      "cell_type": "code",
      "source": [
        "median_sprint_points = sprint_points['points'].median()\n",
        "sprint_points['sprint_success'] = (sprint_points['points'] > median_sprint_points).astype(int)"
      ],
      "metadata": {
        "id": "YckY39eOOXH9"
      },
      "execution_count": 49,
      "outputs": []
    },
    {
      "cell_type": "code",
      "source": [
        "print(f\"Median sprint points: {median_sprint_points}\")\n",
        "print(\"\\nSprint points by driver:\")\n",
        "print(sprint_points.sort_values(by='points', ascending=False)[['name', 'points', 'sprint_success']])"
      ],
      "metadata": {
        "colab": {
          "base_uri": "https://localhost:8080/"
        },
        "id": "EYUWJRjEOZZv",
        "outputId": "fdc05fe7-270b-47a7-94ca-27e8d6c4d90a"
      },
      "execution_count": 50,
      "outputs": [
        {
          "output_type": "stream",
          "name": "stdout",
          "text": [
            "Median sprint points: 2.5\n",
            "\n",
            "Sprint points by driver:\n",
            "                name  points  sprint_success\n",
            "7     Max Verstappen      21               1\n",
            "8       Carlos Sainz      18               1\n",
            "12   Charles Leclerc      17               1\n",
            "3       Sergio Pérez      14               1\n",
            "14    George Russell      13               1\n",
            "0     Lewis Hamilton       7               1\n",
            "13      Lando Norris       6               1\n",
            "6    Kevin Magnussen       4               1\n",
            "9       Esteban Ocon       3               1\n",
            "4   Daniel Ricciardo       3               1\n",
            "5    Valtteri Bottas       2               0\n",
            "1    Fernando Alonso       0               0\n",
            "2   Sebastian Vettel       0               0\n",
            "10      Lance Stroll       0               0\n",
            "11      Pierre Gasly       0               0\n",
            "15   Alexander Albon       0               0\n",
            "16   Nicholas Latifi       0               0\n",
            "17      Yuki Tsunoda       0               0\n",
            "18   Mick Schumacher       0               0\n",
            "19       Guanyu Zhou       0               0\n"
          ]
        }
      ]
    },
    {
      "cell_type": "code",
      "source": [
        "results_2022 = results[results['raceId'].isin(race_ids_2022)]\n",
        "championship_points = results_2022.groupby('driverId')['points'].sum().reset_index()\n",
        "championship_points['name'] = championship_points['driverId'].map(driver_names)"
      ],
      "metadata": {
        "id": "m0Itvm_-OeY5"
      },
      "execution_count": 51,
      "outputs": []
    },
    {
      "cell_type": "code",
      "source": [
        "championship_points = championship_points.sort_values(by='points', ascending=False)\n",
        "championship_points['position'] = range(1, len(championship_points) + 1)"
      ],
      "metadata": {
        "id": "HyjkYJXlOgYK"
      },
      "execution_count": 52,
      "outputs": []
    },
    {
      "cell_type": "code",
      "source": [
        "halfway_position = np.ceil(len(championship_points) / 2)\n",
        "championship_points['championship_success'] = (championship_points['position']\n",
        "                                               <= halfway_position).astype(int)"
      ],
      "metadata": {
        "id": "KQKSDqZ0OiCf"
      },
      "execution_count": 53,
      "outputs": []
    },
    {
      "cell_type": "code",
      "source": [
        "print(\"\\nChampionship standings (top 10):\")\n",
        "print(championship_points.head(10)[['name', 'points', 'position', 'championship_success']])"
      ],
      "metadata": {
        "colab": {
          "base_uri": "https://localhost:8080/"
        },
        "id": "3BBxGtTxOkwa",
        "outputId": "e80f1d24-caa6-45e0-f668-ab05985ab392"
      },
      "execution_count": 54,
      "outputs": [
        {
          "output_type": "stream",
          "name": "stdout",
          "text": [
            "\n",
            "Championship standings (top 10):\n",
            "               name  points  position  championship_success\n",
            "8    Max Verstappen   433.0         1                     1\n",
            "4      Sergio Pérez   291.0         2                     1\n",
            "13  Charles Leclerc   291.0         3                     1\n",
            "15   George Russell   262.0         4                     1\n",
            "0    Lewis Hamilton   233.0         5                     1\n",
            "9      Carlos Sainz   228.0         6                     1\n",
            "14     Lando Norris   116.0         7                     1\n",
            "10     Esteban Ocon    89.0         8                     1\n",
            "1   Fernando Alonso    81.0         9                     1\n",
            "6   Valtteri Bottas    47.0        10                     1\n"
          ]
        }
      ]
    },
    {
      "cell_type": "code",
      "source": [
        "combined_data = pd.merge(sprint_points, championship_points,\n",
        "                         on=['driverId', 'name'], suffixes=('_sprint', '_championship'))"
      ],
      "metadata": {
        "id": "Nk1oZNzoOm7S"
      },
      "execution_count": 55,
      "outputs": []
    },
    {
      "cell_type": "code",
      "source": [
        "print(combined_data[['name', 'points_sprint', 'sprint_success', 'points_championship', 'championship_success']])"
      ],
      "metadata": {
        "colab": {
          "base_uri": "https://localhost:8080/"
        },
        "id": "2pB4xQUAO74J",
        "outputId": "68c6f0f4-7526-4acf-8615-fa9d83345139"
      },
      "execution_count": 56,
      "outputs": [
        {
          "output_type": "stream",
          "name": "stdout",
          "text": [
            "                name  points_sprint  sprint_success  points_championship  \\\n",
            "0     Lewis Hamilton              7               1                233.0   \n",
            "1    Fernando Alonso              0               0                 81.0   \n",
            "2   Sebastian Vettel              0               0                 37.0   \n",
            "3       Sergio Pérez             14               1                291.0   \n",
            "4   Daniel Ricciardo              3               1                 34.0   \n",
            "5    Valtteri Bottas              2               0                 47.0   \n",
            "6    Kevin Magnussen              4               1                 21.0   \n",
            "7     Max Verstappen             21               1                433.0   \n",
            "8       Carlos Sainz             18               1                228.0   \n",
            "9       Esteban Ocon              3               1                 89.0   \n",
            "10      Lance Stroll              0               0                 18.0   \n",
            "11      Pierre Gasly              0               0                 23.0   \n",
            "12   Charles Leclerc             17               1                291.0   \n",
            "13      Lando Norris              6               1                116.0   \n",
            "14    George Russell             13               1                262.0   \n",
            "15   Alexander Albon              0               0                  4.0   \n",
            "16   Nicholas Latifi              0               0                  2.0   \n",
            "17      Yuki Tsunoda              0               0                 12.0   \n",
            "18   Mick Schumacher              0               0                 12.0   \n",
            "19       Guanyu Zhou              0               0                  6.0   \n",
            "\n",
            "    championship_success  \n",
            "0                      1  \n",
            "1                      1  \n",
            "2                      1  \n",
            "3                      1  \n",
            "4                      0  \n",
            "5                      1  \n",
            "6                      0  \n",
            "7                      1  \n",
            "8                      1  \n",
            "9                      1  \n",
            "10                     0  \n",
            "11                     0  \n",
            "12                     1  \n",
            "13                     1  \n",
            "14                     1  \n",
            "15                     0  \n",
            "16                     0  \n",
            "17                     0  \n",
            "18                     0  \n",
            "19                     0  \n"
          ]
        }
      ]
    },
    {
      "cell_type": "code",
      "source": [
        "y = combined_data['championship_success']\n",
        "X = sm.add_constant(combined_data[['sprint_success']])"
      ],
      "metadata": {
        "id": "eBoDMyiRQMUP"
      },
      "execution_count": 62,
      "outputs": []
    },
    {
      "cell_type": "code",
      "source": [
        "model = sm.Logit(y, X).fit()"
      ],
      "metadata": {
        "colab": {
          "base_uri": "https://localhost:8080/"
        },
        "id": "o846u45fQduj",
        "outputId": "a8873b08-3458-4c5b-fb1b-1ac14b029d01"
      },
      "execution_count": 63,
      "outputs": [
        {
          "output_type": "stream",
          "name": "stdout",
          "text": [
            "Optimization terminated successfully.\n",
            "         Current function value: 0.555633\n",
            "         Iterations 5\n"
          ]
        }
      ]
    },
    {
      "cell_type": "code",
      "source": [
        "print(model.summary())"
      ],
      "metadata": {
        "colab": {
          "base_uri": "https://localhost:8080/"
        },
        "id": "_eVEwbToQekt",
        "outputId": "346ab755-50dc-40cb-b57e-4828e73fd9b4"
      },
      "execution_count": 71,
      "outputs": [
        {
          "output_type": "stream",
          "name": "stdout",
          "text": [
            "                            Logit Regression Results                            \n",
            "================================================================================\n",
            "Dep. Variable:     championship_success   No. Observations:                   20\n",
            "Model:                            Logit   Df Residuals:                       18\n",
            "Method:                             MLE   Df Model:                            1\n",
            "Date:                  Mon, 12 May 2025   Pseudo R-squ.:                  0.1926\n",
            "Time:                          20:59:13   Log-Likelihood:                -11.113\n",
            "converged:                         True   LL-Null:                       -13.763\n",
            "Covariance Type:              nonrobust   LLR p-value:                   0.02132\n",
            "==================================================================================\n",
            "                     coef    std err          z      P>|z|      [0.025      0.975]\n",
            "----------------------------------------------------------------------------------\n",
            "const             -0.8473      0.690     -1.228      0.220      -2.200       0.505\n",
            "sprint_success     2.2336      1.049      2.128      0.033       0.177       4.290\n",
            "==================================================================================\n"
          ]
        }
      ]
    },
    {
      "cell_type": "code",
      "source": [
        "odds_ratio = np.exp(model.params)\n",
        "print(odds_ratio)"
      ],
      "metadata": {
        "colab": {
          "base_uri": "https://localhost:8080/"
        },
        "id": "-T2zP9NzQmXv",
        "outputId": "4f5ebed2-8a5c-43b2-a026-c44ef231a278"
      },
      "execution_count": 74,
      "outputs": [
        {
          "output_type": "stream",
          "name": "stdout",
          "text": [
            "const             0.428571\n",
            "sprint_success    9.333333\n",
            "dtype: float64\n"
          ]
        }
      ]
    }
  ]
}