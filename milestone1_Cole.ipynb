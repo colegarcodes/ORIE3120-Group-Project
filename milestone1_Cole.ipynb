{
 "cells": [
  {
   "cell_type": "markdown",
   "id": "9cc06f3a-e006-443d-9183-61d0063bfa5a",
   "metadata": {},
   "source": [
    "# Relationship Between Sprint Race Results and Overall Driver Race Success:"
   ]
  },
  {
   "cell_type": "code",
   "execution_count": null,
   "id": "c872f77b-00b0-4bcd-80a7-c1f004482e8f",
   "metadata": {},
   "outputs": [],
   "source": [
    "import numpy as np\n",
    "\n",
    "sprint = pd.read_csv('cleaned_sprint_results.csv')\n",
    "results = pd.read_csv('cleaned_results.csv')\n",
    "drivers = pd.read_csv('cleaned_drivers.csv')\n",
    "\n",
    "races_columns = races[['raceId', 'year']]\n",
    "results_with_year = results.merge(races_columns, on='raceId', how='inner')\n",
    "\n",
    "filtered_results = results_with_year[results_with_year['year'] >= 2021]\n",
    "filtered_results = filtered_results[~filtered_results['raceId'].isin(sprint['raceId'])]\n",
    "\n",
    "sprint_columns = sprint[['driverId', 'points']]\n",
    "results_columns = filtered_results[['driverId', 'points']]\n",
    "drivers['driver_name'] = drivers['driver_forename'] + ' ' + drivers['driver_surname']\n",
    "driver_columns = drivers[['driverId', 'driver_name']]\n",
    "\n",
    "grouped_sprint = sprint_columns.groupby('driverId', as_index=False)['points'].sum()\n",
    "grouped_results = results_columns.groupby('driverId', as_index=False)['points'].sum()\n",
    "\n",
    "merged_df = grouped_sprint.merge(grouped_results, on='driverId', how='inner')\n",
    "merged_df = merged_df.merge(driver_columns, on='driverId', how='inner')\n",
    "merged_df = merged_df.rename(columns={'points_x': 'sprint_points', 'points_y': 'season_points'})\n",
    "\n",
    "merged_df.head(30)"
   ]
  },
  {
   "cell_type": "code",
   "execution_count": null,
   "id": "8b02dc07-de3e-4252-b0ca-d02fbe9b1d8e",
   "metadata": {},
   "outputs": [],
   "source": [
    "coefficients = np.polyfit(merged_df['sprint_points'], merged_df['season_points'], 1) #LSRL Code adapted from ChatGpt\n",
    "m = coefficients[0]\n",
    "b = coefficients[1]\n",
    "regression_line = m * merged_df['sprint_points'] + b\n",
    "\n",
    "merged_df.plot(kind='scatter', x='sprint_points', y='season_points', s=32, alpha=.8)\n",
    "plt.gca().spines[['top', 'right',]].set_visible(False)\n",
    "plt.title(\"Relationship Between Sprint Points and Season Points (2021-Present)\")\n",
    "plt.xlabel(\"Total Sprint Points\")\n",
    "plt.ylabel(\"Total Season Race Wins\")\n",
    "plt.plot(merged_df['sprint_points'], regression_line, color='red', label='Least Squares Regression Line')\n",
    "plt.legend()"
   ]
  },
  {
   "cell_type": "code",
   "execution_count": null,
   "id": "e725a49f-aaf6-4325-a359-a25c7a722d10",
   "metadata": {},
   "outputs": [],
   "source": [
    "import seaborn as sns\n",
    "\n",
    "# Load data\n",
    "sprint = pd.read_csv('cleaned_sprint_results.csv')\n",
    "results = pd.read_csv('cleaned_results.csv')\n",
    "drivers = pd.read_csv('cleaned_drivers.csv')\n",
    "\n",
    "races_columns = races[['raceId', 'year']]\n",
    "results_with_year = results.merge(races_columns, on='raceId', how='inner')\n",
    "\n",
    "filtered_results = results_with_year[results_with_year['year'] >= 2021]\n",
    "filtered_results = filtered_results[~filtered_results['raceId'].isin(sprint['raceId'])]\n",
    "\n",
    "sprint_columns = sprint[['driverId', 'position', 'points']]\n",
    "results_columns = filtered_results[['driverId', 'points']]\n",
    "drivers['driver_name'] = drivers['driver_forename'] + ' ' + drivers['driver_surname']\n",
    "driver_columns = drivers[['driverId', 'driver_name']]\n",
    "\n",
    "sprint_columns['finished_top_3'] = (sprint_columns['position'] <= ).astype(int)\n",
    "\n",
    "sprint_top3 = sprint_columns.groupby('driverId', as_index=False)['finished_top_3'].max()\n",
    "\n",
    "grouped_results = results_columns.groupby('driverId', as_index=False)['points'].sum()\n",
    "\n",
    "merged_df = grouped_results.merge(driver_columns, on='driverId', how='left')\n",
    "merged_df = merged_df.merge(sprint_top3, on='driverId', how='left').fillna(0)\n",
    "\n",
    "merged_df = merged_df.rename(columns={'points': 'season_points', 'finished_top_3': 'Finished in Top 3 Sprint'})\n",
    "\n",
    "merged_df['Finished in Top 3 Sprint'] = merged_df['Finished in Top 3 Sprint'].replace(\n",
    "    {1: 'Yes', 0: 'No'}\n",
    ")\n",
    "\n",
    "plt.figure(figsize=(8, 5))\n",
    "sns.boxplot(x='Finished in Top 3 Sprint', y='season_points', data=merged_df)\n",
    "\n",
    "plt.title('Championship Points Distribution by Top 3 Sprint Finishes')\n",
    "plt.xlabel('Did the Driver Finish in Top 3 of a Sprint Race?')\n",
    "plt.ylabel('Total Season Championship Points')\n",
    "plt.grid(axis='y', linestyle='--', alpha=0.7)\n",
    "\n",
    "plt.show()"
   ]
  }
 ],
 "metadata": {
  "kernelspec": {
   "display_name": "Python 3 (ipykernel)",
   "language": "python",
   "name": "python3"
  },
  "language_info": {
   "codemirror_mode": {
    "name": "ipython",
    "version": 3
   },
   "file_extension": ".py",
   "mimetype": "text/x-python",
   "name": "python",
   "nbconvert_exporter": "python",
   "pygments_lexer": "ipython3",
   "version": "3.12.2"
  }
 },
 "nbformat": 4,
 "nbformat_minor": 5
}
