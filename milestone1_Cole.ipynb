{
 "cells": [
  {
   "cell_type": "markdown",
   "id": "9cc06f3a-e006-443d-9183-61d0063bfa5a",
   "metadata": {},
   "source": [
    "# Relationship Between Sprint Race Results and Overall Driver Race Success:"
   ]
  },
  {
   "cell_type": "code",
   "execution_count": 69,
   "id": "e725a49f-aaf6-4325-a359-a25c7a722d10",
   "metadata": {},
   "outputs": [
    {
     "data": {
      "text/html": [
       "<div>\n",
       "<style scoped>\n",
       "    .dataframe tbody tr th:only-of-type {\n",
       "        vertical-align: middle;\n",
       "    }\n",
       "\n",
       "    .dataframe tbody tr th {\n",
       "        vertical-align: top;\n",
       "    }\n",
       "\n",
       "    .dataframe thead th {\n",
       "        text-align: right;\n",
       "    }\n",
       "</style>\n",
       "<table border=\"1\" class=\"dataframe\">\n",
       "  <thead>\n",
       "    <tr style=\"text-align: right;\">\n",
       "      <th></th>\n",
       "      <th>driverId</th>\n",
       "      <th>points</th>\n",
       "      <th>driver_name</th>\n",
       "      <th>finished_first</th>\n",
       "    </tr>\n",
       "  </thead>\n",
       "  <tbody>\n",
       "    <tr>\n",
       "      <th>0</th>\n",
       "      <td>1</td>\n",
       "      <td>654.5</td>\n",
       "      <td>Lewis Hamilton</td>\n",
       "      <td>0</td>\n",
       "    </tr>\n",
       "    <tr>\n",
       "      <th>1</th>\n",
       "      <td>4</td>\n",
       "      <td>249.0</td>\n",
       "      <td>Fernando Alonso</td>\n",
       "      <td>0</td>\n",
       "    </tr>\n",
       "    <tr>\n",
       "      <th>2</th>\n",
       "      <td>8</td>\n",
       "      <td>10.0</td>\n",
       "      <td>Kimi Räikkönen</td>\n",
       "      <td>0</td>\n",
       "    </tr>\n",
       "    <tr>\n",
       "      <th>3</th>\n",
       "      <td>9</td>\n",
       "      <td>0.0</td>\n",
       "      <td>Robert Kubica</td>\n",
       "      <td>0</td>\n",
       "    </tr>\n",
       "    <tr>\n",
       "      <th>4</th>\n",
       "      <td>20</td>\n",
       "      <td>76.0</td>\n",
       "      <td>Sebastian Vettel</td>\n",
       "      <td>0</td>\n",
       "    </tr>\n",
       "    <tr>\n",
       "      <th>5</th>\n",
       "      <td>807</td>\n",
       "      <td>6.0</td>\n",
       "      <td>Nico Hülkenberg</td>\n",
       "      <td>0</td>\n",
       "    </tr>\n",
       "    <tr>\n",
       "      <th>6</th>\n",
       "      <td>815</td>\n",
       "      <td>550.0</td>\n",
       "      <td>Sergio Pérez</td>\n",
       "      <td>1</td>\n",
       "    </tr>\n",
       "    <tr>\n",
       "      <th>7</th>\n",
       "      <td>817</td>\n",
       "      <td>110.0</td>\n",
       "      <td>Daniel Ricciardo</td>\n",
       "      <td>0</td>\n",
       "    </tr>\n",
       "    <tr>\n",
       "      <th>8</th>\n",
       "      <td>822</td>\n",
       "      <td>214.0</td>\n",
       "      <td>Valtteri Bottas</td>\n",
       "      <td>1</td>\n",
       "    </tr>\n",
       "    <tr>\n",
       "      <th>9</th>\n",
       "      <td>825</td>\n",
       "      <td>17.0</td>\n",
       "      <td>Kevin Magnussen</td>\n",
       "      <td>0</td>\n",
       "    </tr>\n",
       "  </tbody>\n",
       "</table>\n",
       "</div>"
      ],
      "text/plain": [
       "   driverId  points       driver_name  finished_first\n",
       "0         1   654.5    Lewis Hamilton               0\n",
       "1         4   249.0   Fernando Alonso               0\n",
       "2         8    10.0    Kimi Räikkönen               0\n",
       "3         9     0.0     Robert Kubica               0\n",
       "4        20    76.0  Sebastian Vettel               0\n",
       "5       807     6.0   Nico Hülkenberg               0\n",
       "6       815   550.0      Sergio Pérez               1\n",
       "7       817   110.0  Daniel Ricciardo               0\n",
       "8       822   214.0   Valtteri Bottas               1\n",
       "9       825    17.0   Kevin Magnussen               0"
      ]
     },
     "execution_count": 69,
     "metadata": {},
     "output_type": "execute_result"
    }
   ],
   "source": [
    "import pandas as pd\n",
    "import matplotlib.pyplot as plt\n",
    "\n",
    "sprint = pd.read_csv('cleaned_sprint_results.csv')\n",
    "results = pd.read_csv('cleaned_results.csv')\n",
    "drivers = pd.read_csv('cleaned_drivers.csv')\n",
    "races = pd.read_csv('cleaned_races.csv')\n",
    "\n",
    "races_columns = races[['raceId', 'year']]\n",
    "results_with_year = results.merge(races_columns, on='raceId', how='inner')\n",
    "\n",
    "filtered_results = results_with_year[results_with_year['year'] >= 2021]\n",
    "filtered_results = filtered_results[~filtered_results['raceId'].isin(sprint['raceId'])]\n",
    "\n",
    "sprint_columns = sprint[['driverId', 'position', 'points']].copy()\n",
    "results_columns = filtered_results[['driverId', 'points']]\n",
    "drivers['driver_name'] = drivers['driver_forename'] + ' ' + drivers['driver_surname']\n",
    "driver_columns = drivers[['driverId', 'driver_name']]\n",
    "\n",
    "sprint_columns.loc[:, 'finished_first'] = (sprint_columns['position'] == 1).astype(int)\n",
    "\n",
    "sprint_first = sprint_columns.groupby('driverId', as_index=False)['finished_first'].max() \n",
    "\n",
    "grouped_results = results_columns.groupby('driverId', as_index=False)['points'].sum()\n",
    "\n",
    "merged_df = grouped_results.merge(driver_columns, on='driverId', how='inner')\n",
    "merged_df = merged_df.merge(sprint_top3, on='driverId', how='inner')\n",
    "\n",
    "merged_df.head(10)"
   ]
  },
  {
   "cell_type": "code",
   "execution_count": 70,
   "id": "9db7ff73-21df-4a63-b6f0-7d510a8ba52d",
   "metadata": {},
   "outputs": [
    {
     "data": {
      "text/plain": [
       "Text(0, 0.5, 'Total Season Race Points')"
      ]
     },
     "execution_count": 70,
     "metadata": {},
     "output_type": "execute_result"
    },
    {
     "data": {
      "image/png": "[encoded data removed]",
      "text/plain": [
       "<Figure size 800x500 with 1 Axes>"
      ]
     },
     "metadata": {},
     "output_type": "display_data"
    }
   ],
   "source": [
    "yes_first = merged_df[merged_df['finished_first'] == 1]['points']\n",
    "no_first = merged_df[merged_df['finished_first'] == 0]['points']\n",
    "\n",
    "fig, ax = plt.subplots(figsize=(8, 5))\n",
    "ax.boxplot([no_first, yes_first], tick_labels=['No', 'Yes'], patch_artist=True)\n",
    "\n",
    "ax.set_title('2021-2024 Season Points Distribution by Winning Sprint Racers')\n",
    "ax.set_xlabel('Did the Driver Finish First in a Sprint Race?')\n",
    "ax.set_ylabel('Total Season Race Points')"
   ]
  }
 ],
 "metadata": {
  "kernelspec": {
   "display_name": "Python 3 (ipykernel)",
   "language": "python",
   "name": "python3"
  },
  "language_info": {
   "codemirror_mode": {
    "name": "ipython",
    "version": 3
   },
   "file_extension": ".py",
   "mimetype": "text/x-python",
   "name": "python",
   "nbconvert_exporter": "python",
   "pygments_lexer": "ipython3",
   "version": "3.12.2"
  }
 },
 "nbformat": 4,
 "nbformat_minor": 5
}
